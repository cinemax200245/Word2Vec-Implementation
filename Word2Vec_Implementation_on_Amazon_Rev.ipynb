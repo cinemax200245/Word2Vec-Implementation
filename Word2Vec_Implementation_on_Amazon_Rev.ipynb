{
  "nbformat": 4,
  "nbformat_minor": 0,
  "metadata": {
    "colab": {
      "provenance": [],
      "gpuType": "T4"
    },
    "kernelspec": {
      "name": "python3",
      "display_name": "Python 3"
    },
    "language_info": {
      "name": "python"
    },
    "accelerator": "GPU",
    "gpuClass": "standard"
  },
  "cells": [
    {
      "cell_type": "code",
      "execution_count": null,
      "metadata": {
        "colab": {
          "base_uri": "https://localhost:8080/"
        },
        "id": "pQaqwUy-pG4B",
        "outputId": "59d2b046-cbfe-4134-ffeb-70ee281b0b5f"
      },
      "outputs": [
        {
          "output_type": "stream",
          "name": "stdout",
          "text": [
            "Looking in indexes: https://pypi.org/simple, https://us-python.pkg.dev/colab-wheels/public/simple/\n",
            "Requirement already satisfied: gensim in /usr/local/lib/python3.10/dist-packages (4.3.1)\n",
            "Requirement already satisfied: numpy>=1.18.5 in /usr/local/lib/python3.10/dist-packages (from gensim) (1.22.4)\n",
            "Requirement already satisfied: scipy>=1.7.0 in /usr/local/lib/python3.10/dist-packages (from gensim) (1.10.1)\n",
            "Requirement already satisfied: smart-open>=1.8.1 in /usr/local/lib/python3.10/dist-packages (from gensim) (6.3.0)\n",
            "Looking in indexes: https://pypi.org/simple, https://us-python.pkg.dev/colab-wheels/public/simple/\n",
            "Collecting python-Levenshtein\n",
            "  Downloading python_Levenshtein-0.21.0-py3-none-any.whl (9.4 kB)\n",
            "Collecting Levenshtein==0.21.0 (from python-Levenshtein)\n",
            "  Downloading Levenshtein-0.21.0-cp310-cp310-manylinux_2_17_x86_64.manylinux2014_x86_64.whl (174 kB)\n",
            "\u001b[2K     \u001b[90m━━━━━━━━━━━━━━━━━━━━━━━━━━━━━━━━━━━━━━━\u001b[0m \u001b[32m174.1/174.1 kB\u001b[0m \u001b[31m5.3 MB/s\u001b[0m eta \u001b[36m0:00:00\u001b[0m\n",
            "\u001b[?25hCollecting rapidfuzz<4.0.0,>=2.3.0 (from Levenshtein==0.21.0->python-Levenshtein)\n",
            "  Downloading rapidfuzz-3.0.0-cp310-cp310-manylinux_2_17_x86_64.manylinux2014_x86_64.whl (3.0 MB)\n",
            "\u001b[2K     \u001b[90m━━━━━━━━━━━━━━━━━━━━━━━━━━━━━━━━━━━━━━━━\u001b[0m \u001b[32m3.0/3.0 MB\u001b[0m \u001b[31m66.9 MB/s\u001b[0m eta \u001b[36m0:00:00\u001b[0m\n",
            "\u001b[?25hInstalling collected packages: rapidfuzz, Levenshtein, python-Levenshtein\n",
            "Successfully installed Levenshtein-0.21.0 python-Levenshtein-0.21.0 rapidfuzz-3.0.0\n"
          ]
        }
      ],
      "source": [
        "!pip install gensim\n",
        "!pip install python-Levenshtein"
      ]
    },
    {
      "cell_type": "markdown",
      "source": [
        "<!DOCTYPE html>\n",
        "<html>\n",
        "<body>\n",
        "  <h3>Gensim</h3>\n",
        "  <p>Gensim is a Python library for topic modeling and document similarity analysis.</p>\n",
        "  <h3>Levenshtein</h3>\n",
        "  <p>Levenshtein distance is an algorithm used to measure the difference between two strings.</p>\n",
        "</body>\n",
        "</html>\n"
      ],
      "metadata": {
        "id": "VE9fwJSe08yC"
      }
    },
    {
      "cell_type": "markdown",
      "source": [
        "***-------------------------------------------------------------------------------------------------------------------***"
      ],
      "metadata": {
        "id": "N8LWM3WS1Ew-"
      }
    },
    {
      "cell_type": "markdown",
      "source": [
        " The Amazon Cell Phones and Accessories Reviews dataset, is a valuable resource for sentiment analysis and customer feedback analysis. It contains reviews written by customers who have purchased cell phones and accessories on Amazon. Here's a brief introduction to this type of dataset"
      ],
      "metadata": {
        "id": "Z0bGiznX0asV"
      }
    },
    {
      "cell_type": "code",
      "source": [
        "import gensim\n",
        "import pandas as pd\n",
        "df=pd.read_json(\"/content/drive/MyDrive/Cell_Phones_and_Accessories_5.json\",lines=True)\n",
        "df.head()"
      ],
      "metadata": {
        "colab": {
          "base_uri": "https://localhost:8080/",
          "height": 652
        },
        "id": "3TOVyHAxpRyU",
        "outputId": "ca37b895-69bf-4853-87bc-ec562e56f8c4"
      },
      "execution_count": 6,
      "outputs": [
        {
          "output_type": "execute_result",
          "data": {
            "text/plain": [
              "       reviewerID        asin      reviewerName helpful  \\\n",
              "0  A30TL5EWN6DFXT  120401325X         christina  [0, 0]   \n",
              "1   ASY55RVNIL0UD  120401325X          emily l.  [0, 0]   \n",
              "2  A2TMXE2AFO7ONB  120401325X             Erica  [0, 0]   \n",
              "3   AWJ0WZQYMYFQ4  120401325X                JM  [4, 4]   \n",
              "4   ATX7CZYFXI1KW  120401325X  patrice m rogoza  [2, 3]   \n",
              "\n",
              "                                          reviewText  overall  \\\n",
              "0  They look good and stick good! I just don't li...        4   \n",
              "1  These stickers work like the review says they ...        5   \n",
              "2  These are awesome and make my phone look so st...        5   \n",
              "3  Item arrived in great time and was in perfect ...        4   \n",
              "4  awesome! stays on, and looks great. can be use...        5   \n",
              "\n",
              "                                     summary  unixReviewTime   reviewTime  \n",
              "0                                 Looks Good      1400630400  05 21, 2014  \n",
              "1                      Really great product.      1389657600  01 14, 2014  \n",
              "2                             LOVE LOVE LOVE      1403740800  06 26, 2014  \n",
              "3                                      Cute!      1382313600  10 21, 2013  \n",
              "4  leopard home button sticker for iphone 4s      1359849600   02 3, 2013  "
            ],
            "text/html": [
              "\n",
              "  <div id=\"df-9223ce85-37ff-4e02-8f9d-13e2e2e6452a\">\n",
              "    <div class=\"colab-df-container\">\n",
              "      <div>\n",
              "<style scoped>\n",
              "    .dataframe tbody tr th:only-of-type {\n",
              "        vertical-align: middle;\n",
              "    }\n",
              "\n",
              "    .dataframe tbody tr th {\n",
              "        vertical-align: top;\n",
              "    }\n",
              "\n",
              "    .dataframe thead th {\n",
              "        text-align: right;\n",
              "    }\n",
              "</style>\n",
              "<table border=\"1\" class=\"dataframe\">\n",
              "  <thead>\n",
              "    <tr style=\"text-align: right;\">\n",
              "      <th></th>\n",
              "      <th>reviewerID</th>\n",
              "      <th>asin</th>\n",
              "      <th>reviewerName</th>\n",
              "      <th>helpful</th>\n",
              "      <th>reviewText</th>\n",
              "      <th>overall</th>\n",
              "      <th>summary</th>\n",
              "      <th>unixReviewTime</th>\n",
              "      <th>reviewTime</th>\n",
              "    </tr>\n",
              "  </thead>\n",
              "  <tbody>\n",
              "    <tr>\n",
              "      <th>0</th>\n",
              "      <td>A30TL5EWN6DFXT</td>\n",
              "      <td>120401325X</td>\n",
              "      <td>christina</td>\n",
              "      <td>[0, 0]</td>\n",
              "      <td>They look good and stick good! I just don't li...</td>\n",
              "      <td>4</td>\n",
              "      <td>Looks Good</td>\n",
              "      <td>1400630400</td>\n",
              "      <td>05 21, 2014</td>\n",
              "    </tr>\n",
              "    <tr>\n",
              "      <th>1</th>\n",
              "      <td>ASY55RVNIL0UD</td>\n",
              "      <td>120401325X</td>\n",
              "      <td>emily l.</td>\n",
              "      <td>[0, 0]</td>\n",
              "      <td>These stickers work like the review says they ...</td>\n",
              "      <td>5</td>\n",
              "      <td>Really great product.</td>\n",
              "      <td>1389657600</td>\n",
              "      <td>01 14, 2014</td>\n",
              "    </tr>\n",
              "    <tr>\n",
              "      <th>2</th>\n",
              "      <td>A2TMXE2AFO7ONB</td>\n",
              "      <td>120401325X</td>\n",
              "      <td>Erica</td>\n",
              "      <td>[0, 0]</td>\n",
              "      <td>These are awesome and make my phone look so st...</td>\n",
              "      <td>5</td>\n",
              "      <td>LOVE LOVE LOVE</td>\n",
              "      <td>1403740800</td>\n",
              "      <td>06 26, 2014</td>\n",
              "    </tr>\n",
              "    <tr>\n",
              "      <th>3</th>\n",
              "      <td>AWJ0WZQYMYFQ4</td>\n",
              "      <td>120401325X</td>\n",
              "      <td>JM</td>\n",
              "      <td>[4, 4]</td>\n",
              "      <td>Item arrived in great time and was in perfect ...</td>\n",
              "      <td>4</td>\n",
              "      <td>Cute!</td>\n",
              "      <td>1382313600</td>\n",
              "      <td>10 21, 2013</td>\n",
              "    </tr>\n",
              "    <tr>\n",
              "      <th>4</th>\n",
              "      <td>ATX7CZYFXI1KW</td>\n",
              "      <td>120401325X</td>\n",
              "      <td>patrice m rogoza</td>\n",
              "      <td>[2, 3]</td>\n",
              "      <td>awesome! stays on, and looks great. can be use...</td>\n",
              "      <td>5</td>\n",
              "      <td>leopard home button sticker for iphone 4s</td>\n",
              "      <td>1359849600</td>\n",
              "      <td>02 3, 2013</td>\n",
              "    </tr>\n",
              "  </tbody>\n",
              "</table>\n",
              "</div>\n",
              "      <button class=\"colab-df-convert\" onclick=\"convertToInteractive('df-9223ce85-37ff-4e02-8f9d-13e2e2e6452a')\"\n",
              "              title=\"Convert this dataframe to an interactive table.\"\n",
              "              style=\"display:none;\">\n",
              "        \n",
              "  <svg xmlns=\"http://www.w3.org/2000/svg\" height=\"24px\"viewBox=\"0 0 24 24\"\n",
              "       width=\"24px\">\n",
              "    <path d=\"M0 0h24v24H0V0z\" fill=\"none\"/>\n",
              "    <path d=\"M18.56 5.44l.94 2.06.94-2.06 2.06-.94-2.06-.94-.94-2.06-.94 2.06-2.06.94zm-11 1L8.5 8.5l.94-2.06 2.06-.94-2.06-.94L8.5 2.5l-.94 2.06-2.06.94zm10 10l.94 2.06.94-2.06 2.06-.94-2.06-.94-.94-2.06-.94 2.06-2.06.94z\"/><path d=\"M17.41 7.96l-1.37-1.37c-.4-.4-.92-.59-1.43-.59-.52 0-1.04.2-1.43.59L10.3 9.45l-7.72 7.72c-.78.78-.78 2.05 0 2.83L4 21.41c.39.39.9.59 1.41.59.51 0 1.02-.2 1.41-.59l7.78-7.78 2.81-2.81c.8-.78.8-2.07 0-2.86zM5.41 20L4 18.59l7.72-7.72 1.47 1.35L5.41 20z\"/>\n",
              "  </svg>\n",
              "      </button>\n",
              "      \n",
              "  <style>\n",
              "    .colab-df-container {\n",
              "      display:flex;\n",
              "      flex-wrap:wrap;\n",
              "      gap: 12px;\n",
              "    }\n",
              "\n",
              "    .colab-df-convert {\n",
              "      background-color: #E8F0FE;\n",
              "      border: none;\n",
              "      border-radius: 50%;\n",
              "      cursor: pointer;\n",
              "      display: none;\n",
              "      fill: #1967D2;\n",
              "      height: 32px;\n",
              "      padding: 0 0 0 0;\n",
              "      width: 32px;\n",
              "    }\n",
              "\n",
              "    .colab-df-convert:hover {\n",
              "      background-color: #E2EBFA;\n",
              "      box-shadow: 0px 1px 2px rgba(60, 64, 67, 0.3), 0px 1px 3px 1px rgba(60, 64, 67, 0.15);\n",
              "      fill: #174EA6;\n",
              "    }\n",
              "\n",
              "    [theme=dark] .colab-df-convert {\n",
              "      background-color: #3B4455;\n",
              "      fill: #D2E3FC;\n",
              "    }\n",
              "\n",
              "    [theme=dark] .colab-df-convert:hover {\n",
              "      background-color: #434B5C;\n",
              "      box-shadow: 0px 1px 3px 1px rgba(0, 0, 0, 0.15);\n",
              "      filter: drop-shadow(0px 1px 2px rgba(0, 0, 0, 0.3));\n",
              "      fill: #FFFFFF;\n",
              "    }\n",
              "  </style>\n",
              "\n",
              "      <script>\n",
              "        const buttonEl =\n",
              "          document.querySelector('#df-9223ce85-37ff-4e02-8f9d-13e2e2e6452a button.colab-df-convert');\n",
              "        buttonEl.style.display =\n",
              "          google.colab.kernel.accessAllowed ? 'block' : 'none';\n",
              "\n",
              "        async function convertToInteractive(key) {\n",
              "          const element = document.querySelector('#df-9223ce85-37ff-4e02-8f9d-13e2e2e6452a');\n",
              "          const dataTable =\n",
              "            await google.colab.kernel.invokeFunction('convertToInteractive',\n",
              "                                                     [key], {});\n",
              "          if (!dataTable) return;\n",
              "\n",
              "          const docLinkHtml = 'Like what you see? Visit the ' +\n",
              "            '<a target=\"_blank\" href=https://colab.research.google.com/notebooks/data_table.ipynb>data table notebook</a>'\n",
              "            + ' to learn more about interactive tables.';\n",
              "          element.innerHTML = '';\n",
              "          dataTable['output_type'] = 'display_data';\n",
              "          await google.colab.output.renderOutput(dataTable, element);\n",
              "          const docLink = document.createElement('div');\n",
              "          docLink.innerHTML = docLinkHtml;\n",
              "          element.appendChild(docLink);\n",
              "        }\n",
              "      </script>\n",
              "    </div>\n",
              "  </div>\n",
              "  "
            ]
          },
          "metadata": {},
          "execution_count": 6
        }
      ]
    },
    {
      "cell_type": "code",
      "source": [
        "df.shape"
      ],
      "metadata": {
        "id": "Ut3NRfxPsIaM",
        "colab": {
          "base_uri": "https://localhost:8080/"
        },
        "outputId": "e38aefc4-1737-410d-a069-0659cf9ce4c9"
      },
      "execution_count": 7,
      "outputs": [
        {
          "output_type": "execute_result",
          "data": {
            "text/plain": [
              "(194439, 9)"
            ]
          },
          "metadata": {},
          "execution_count": 7
        }
      ]
    },
    {
      "cell_type": "code",
      "source": [
        "df.reviewText #we are interested in this column"
      ],
      "metadata": {
        "colab": {
          "base_uri": "https://localhost:8080/"
        },
        "id": "4nAGk-sY0lMb",
        "outputId": "5d215c44-3f77-4a75-ced7-a362d0d20143"
      },
      "execution_count": 8,
      "outputs": [
        {
          "output_type": "execute_result",
          "data": {
            "text/plain": [
              "0         They look good and stick good! I just don't li...\n",
              "1         These stickers work like the review says they ...\n",
              "2         These are awesome and make my phone look so st...\n",
              "3         Item arrived in great time and was in perfect ...\n",
              "4         awesome! stays on, and looks great. can be use...\n",
              "                                ...                        \n",
              "194434    Works great just like my original one. I reall...\n",
              "194435    Great product. Great packaging. High quality a...\n",
              "194436    This is a great cable, just as good as the mor...\n",
              "194437    I really like it becasue it works well with my...\n",
              "194438    product as described, I have wasted a lot of m...\n",
              "Name: reviewText, Length: 194439, dtype: object"
            ]
          },
          "metadata": {},
          "execution_count": 8
        }
      ]
    },
    {
      "cell_type": "code",
      "source": [
        "df.reviewText[5]"
      ],
      "metadata": {
        "colab": {
          "base_uri": "https://localhost:8080/",
          "height": 53
        },
        "id": "f9hGNUnL1S_7",
        "outputId": "b9f3f0ff-e770-44b9-80f9-47b0c3de7096"
      },
      "execution_count": 9,
      "outputs": [
        {
          "output_type": "execute_result",
          "data": {
            "text/plain": [
              "'These make using the home button easy. My daughter and I both like them.  I would purchase them again. Well worth the price.'"
            ],
            "application/vnd.google.colaboratory.intrinsic+json": {
              "type": "string"
            }
          },
          "metadata": {},
          "execution_count": 9
        }
      ]
    },
    {
      "cell_type": "code",
      "source": [
        "gensim.utils.simple_preprocess(\"These make using the home button easy. My daughter and I both like them.  I would purchase them again. Well worth the price.\")"
      ],
      "metadata": {
        "colab": {
          "base_uri": "https://localhost:8080/"
        },
        "id": "utkHHMtY1rVF",
        "outputId": "92d21f7b-d54f-4cd7-d9a9-30860104dd7a"
      },
      "execution_count": 10,
      "outputs": [
        {
          "output_type": "execute_result",
          "data": {
            "text/plain": [
              "['these',\n",
              " 'make',\n",
              " 'using',\n",
              " 'the',\n",
              " 'home',\n",
              " 'button',\n",
              " 'easy',\n",
              " 'my',\n",
              " 'daughter',\n",
              " 'and',\n",
              " 'both',\n",
              " 'like',\n",
              " 'them',\n",
              " 'would',\n",
              " 'purchase',\n",
              " 'them',\n",
              " 'again',\n",
              " 'well',\n",
              " 'worth',\n",
              " 'the',\n",
              " 'price']"
            ]
          },
          "metadata": {},
          "execution_count": 10
        }
      ]
    },
    {
      "cell_type": "code",
      "source": [
        "review_Text = df.reviewText.apply(gensim.utils.simple_preprocess)\n",
        "#returns us a numpy array"
      ],
      "metadata": {
        "id": "8iTRuy4k1edS"
      },
      "execution_count": 13,
      "outputs": []
    },
    {
      "cell_type": "markdown",
      "source": [
        "*`import gensim\n",
        "df.reviewText.apply(lambda x: gensim.utils.simple_preprocess(x))`*\n",
        "\n",
        "We could have also used this function"
      ],
      "metadata": {
        "id": "BD-8UpDG2aJZ"
      }
    },
    {
      "cell_type": "code",
      "source": [
        "print(review_Text)\n",
        "print('----------------------------------------------------------')\n",
        "print(review_Text[10])"
      ],
      "metadata": {
        "colab": {
          "base_uri": "https://localhost:8080/"
        },
        "id": "NKD1izAg13Dj",
        "outputId": "d8da0673-fbfe-456f-8c5a-fba3ab7497ca"
      },
      "execution_count": 17,
      "outputs": [
        {
          "output_type": "stream",
          "name": "stdout",
          "text": [
            "0         [they, look, good, and, stick, good, just, don...\n",
            "1         [these, stickers, work, like, the, review, say...\n",
            "2         [these, are, awesome, and, make, my, phone, lo...\n",
            "3         [item, arrived, in, great, time, and, was, in,...\n",
            "4         [awesome, stays, on, and, looks, great, can, b...\n",
            "                                ...                        \n",
            "194434    [works, great, just, like, my, original, one, ...\n",
            "194435    [great, product, great, packaging, high, quali...\n",
            "194436    [this, is, great, cable, just, as, good, as, t...\n",
            "194437    [really, like, it, becasue, it, works, well, w...\n",
            "194438    [product, as, described, have, wasted, lot, of...\n",
            "Name: reviewText, Length: 194439, dtype: object\n",
            "----------------------------------------------------------\n",
            "['this', 'case', 'fits', 'perfectly', 'on', 'the', 'and', 'keeps', 'me', 'powerd', 'all', 'day', 'can', 'complain', 'recommend', 'it', 'to', 'all']\n"
          ]
        }
      ]
    },
    {
      "cell_type": "code",
      "source": [
        "model=gensim.models.Word2Vec(\n",
        "    window=10,min_count=2,workers=4\n",
        ")\n",
        "model.build_vocab(review_Text,progress_per=1000)"
      ],
      "metadata": {
        "id": "gUBSVMku2nJ7"
      },
      "execution_count": 19,
      "outputs": []
    },
    {
      "cell_type": "code",
      "source": [
        "print('Epochs : ',model.epochs)\n",
        "print('Corpus Count : ',model.corpus_count)"
      ],
      "metadata": {
        "colab": {
          "base_uri": "https://localhost:8080/"
        },
        "id": "12CePLJc34rF",
        "outputId": "449a9152-684f-4f38-942f-876301a98857"
      },
      "execution_count": 21,
      "outputs": [
        {
          "output_type": "stream",
          "name": "stdout",
          "text": [
            "Epochs :  5\n",
            "Corpus Count :  194439\n"
          ]
        }
      ]
    },
    {
      "cell_type": "code",
      "source": [
        "model.train(review_Text,total_examples=model.corpus_count,epochs=model.epochs)"
      ],
      "metadata": {
        "colab": {
          "base_uri": "https://localhost:8080/"
        },
        "id": "0sDq992a4Oh0",
        "outputId": "d38e7df5-cd7a-4049-b04f-4b35decdc3e7"
      },
      "execution_count": 22,
      "outputs": [
        {
          "output_type": "execute_result",
          "data": {
            "text/plain": [
              "(61504894, 83868975)"
            ]
          },
          "metadata": {},
          "execution_count": 22
        }
      ]
    },
    {
      "cell_type": "code",
      "source": [
        "model.save(\"./word2vec-amazon-cell-accs-rev.model\")"
      ],
      "metadata": {
        "id": "Aqsarij14lXE"
      },
      "execution_count": 23,
      "outputs": []
    },
    {
      "cell_type": "code",
      "source": [
        "model.wv.most_similar(\"bad\")"
      ],
      "metadata": {
        "colab": {
          "base_uri": "https://localhost:8080/"
        },
        "id": "5BzOVhJb5CsD",
        "outputId": "8e75e1a4-c0b2-4cee-eec8-cedef5c66efc"
      },
      "execution_count": 28,
      "outputs": [
        {
          "output_type": "execute_result",
          "data": {
            "text/plain": [
              "[('shabby', 0.6778111457824707),\n",
              " ('terrible', 0.6639342308044434),\n",
              " ('horrible', 0.596806526184082),\n",
              " ('good', 0.5800367593765259),\n",
              " ('awful', 0.5624942779541016),\n",
              " ('disappointing', 0.5253126621246338),\n",
              " ('crappy', 0.5233975648880005),\n",
              " ('ok', 0.517328679561615),\n",
              " ('funny', 0.5115740299224854),\n",
              " ('legit', 0.5104600191116333)]"
            ]
          },
          "metadata": {},
          "execution_count": 28
        }
      ]
    },
    {
      "cell_type": "code",
      "source": [
        "model.wv.most_similar(\"good\")"
      ],
      "metadata": {
        "colab": {
          "base_uri": "https://localhost:8080/"
        },
        "id": "83Vr004l5Gnb",
        "outputId": "aee07963-eed1-4d58-b315-a333927a8c6e"
      },
      "execution_count": 29,
      "outputs": [
        {
          "output_type": "execute_result",
          "data": {
            "text/plain": [
              "[('decent', 0.810697615146637),\n",
              " ('great', 0.7837907671928406),\n",
              " ('nice', 0.7169830799102783),\n",
              " ('fantastic', 0.7056553363800049),\n",
              " ('excellent', 0.6317567229270935),\n",
              " ('outstanding', 0.6120190620422363),\n",
              " ('superb', 0.6056107878684998),\n",
              " ('awesome', 0.6021170020103455),\n",
              " ('terrific', 0.6002836227416992),\n",
              " ('reasonable', 0.5855860114097595)]"
            ]
          },
          "metadata": {},
          "execution_count": 29
        }
      ]
    },
    {
      "cell_type": "markdown",
      "source": [
        "The output received after executing `model.wv.most_similar(\"bad\")` is a list of word-similarity pairs. Each pair consists of a word and a similarity score. The list represents the words that are most similar to the word \"bad\" based on the trained word vectors in the model.\n",
        "\n",
        "Let's break down the output:\n",
        "1. The word `\"shabby\"` has a similarity score of 0.6778111457824707, which means it is highly similar to the word \"bad\" in the context of the trained word vectors.\n",
        "\n",
        "2. Similarly, `\"terrible\"` and `\"horrible\"` have high similarity scores of 0.6639342308044434 and 0.596806526184082, respectively.\n",
        "\n",
        "3. On the other hand, `\"good\"` has a lower similarity score of 0.5800367593765259, indicating that it is less similar to `\"bad\"` compared to the previous words.\n",
        "\n",
        "4. The words `\"awful\"`, `\"disappointing\"`, `\"crappy\"`, `\"ok\"`, `\"funny\"`, and `\"legit\"` also have similarity scores ranging from 0.5253126621246338 to 0.5104600191116333, indicating their similarity to the word \"bad\" but to a slightly lesser degree."
      ],
      "metadata": {
        "id": "26e5sCt756iZ"
      }
    },
    {
      "cell_type": "code",
      "source": [
        "# Calculate and print similarity scores\n",
        "similarity_score_1=model.wv.similarity(w1=\"cheap\", w2=\"inexpensive\")\n",
        "similarity_score_2=model.wv.similarity(w1=\"good\", w2=\"rubbish\")\n",
        "similarity_score_3=model.wv.similarity(w1=\"good\", w2=\"product\")\n",
        "similarity_score_4=model.wv.similarity(w1=\"bad\", w2=\"awful\")\n",
        "similarity_score_5=model.wv.similarity(w1=\"positive\", w2=\"negative\")\n",
        "similarity_score_6=model.wv.similarity(w1=\"amazing\", w2=\"dish\")\n",
        "print(\"Similarity between 'cheap' and 'inexpensive':\", similarity_score_1)\n",
        "print(\"Similarity between 'good' and 'rubbish':\", similarity_score_2)\n",
        "print(\"Similarity between 'good' and 'product':\", similarity_score_3)\n",
        "print(\"Similarity between 'bad' and 'awful':\", similarity_score_4)\n",
        "print(\"Similarity between 'positive' and 'negative':\", similarity_score_5)\n",
        "print(\"Similarity between 'amazing' and 'dish':\", similarity_score_6)"
      ],
      "metadata": {
        "colab": {
          "base_uri": "https://localhost:8080/"
        },
        "id": "7m-PUenE5h3L",
        "outputId": "b1283055-78a4-41ac-bfbc-fa678d3f9789"
      },
      "execution_count": 35,
      "outputs": [
        {
          "output_type": "stream",
          "name": "stdout",
          "text": [
            "Similarity between 'cheap' and 'inexpensive': 0.53239584\n",
            "Similarity between 'good' and 'rubbish': 0.31537217\n",
            "Similarity between 'good' and 'product': -0.032642324\n",
            "Similarity between 'bad' and 'awful': 0.5624943\n",
            "Similarity between 'positive' and 'negative': 0.72667813\n",
            "Similarity between 'amazing' and 'dish': -0.05745638\n"
          ]
        }
      ]
    },
    {
      "cell_type": "markdown",
      "source": [
        "1. A score close to 1 indicates a high similarity or relatedness between the words.\n",
        "2. A score close to 0 suggests moderate similarity or unrelatedness.\n",
        "3. A score close to -1 indicates a high dissimilarity or opposite meaning between the words."
      ],
      "metadata": {
        "id": "EHS7NCd97pzj"
      }
    },
    {
      "cell_type": "code",
      "source": [],
      "metadata": {
        "id": "E8IeiOdY6w5M"
      },
      "execution_count": null,
      "outputs": []
    }
  ]
}